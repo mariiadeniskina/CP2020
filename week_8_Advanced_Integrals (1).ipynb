{
 "cells": [
  {
   "cell_type": "markdown",
   "metadata": {},
   "source": [
    "## Part 1. Gaussian quadrature\n",
    "\n",
    "The Gaussian quadrature method is one of the methods of numerical integration that allows you to increase the accuracy of integration, by using orthogonal polynomials and their roots as nodes.\n",
    "\n",
    "$$\n",
    "\\int_a^b \\!  w(x)\\, f(x)\\, dx \\approx \\sum_{k=1}^n w_k \\, f(x_k) \\;,\n",
    "$$\n",
    "\n",
    "here $\\omega$ is the weight function, this weight function determines the basis of orthogonal polynomials whose roots are used as integration nodes. If the function $f(x)$ is a polynomial, then such an integration method gives *exact* value for the integral."
   ]
  },
  {
   "cell_type": "markdown",
   "metadata": {},
   "source": [
    "For example, let's calculate the following integral:\n",
    "$$\n",
    "\\int_{-1}^1 (7x^3 - 8 x^2 - 3 x + 3) dx  \\label{eq1}\\tag{1}\n",
    "$$\n",
    "\n",
    "Here function is already polynomial, so we put the weight function $\\omega(x) = 1$. Then the calculation of the integral reduces to the sum in the polynomials roots witch corresponding to the weight function $\\omega(x) = 1$. For example, here https://dlmf.nist.gov/18.3 you may see which basis of polynomials corresponds to your weight function.\n",
    "\n",
    "You may see, that Legendre polynomials correspond to our weight function. Now go to the documentation https://docs.scipy.org/doc/scipy/reference/special.html#orthogonal-polynomials. Here, the function *roots_legendre* immediately gives you the roots of the Legendre polynomial and weight at this roots (for Legendre polynomials all these weight are ones).\n"
   ]
  },
  {
   "cell_type": "markdown",
   "metadata": {},
   "source": [
    "### Task 1.1\n",
    "(20% of the grade)"
   ]
  },
  {
   "cell_type": "markdown",
   "metadata": {},
   "source": [
    "1. Calculate the exact value of the integral ([1](#mjx-eqn-eq1)) using a pen and paper (or in your mind). Remember it, then you will compare numerical results with it."
   ]
  },
  {
   "cell_type": "markdown",
   "metadata": {},
   "source": [
    "Ответ: 2/3."
   ]
  },
  {
   "cell_type": "markdown",
   "metadata": {},
   "source": [
    "2. Calculate the value of the integral ([1](#mjx-eqn-eq1)) using the usual method of numerical integration on a uniform grid (for example, implemented by you in week_6_calculus homework). Estimate the number of nodes needed to achieve relative accuracy $10^{-10}$."
   ]
  },
  {
   "cell_type": "code",
   "execution_count": 1,
   "metadata": {},
   "outputs": [],
   "source": [
    "import numpy as np\n",
    "import scipy\n",
    "from scipy import special"
   ]
  },
  {
   "cell_type": "code",
   "execution_count": 2,
   "metadata": {},
   "outputs": [],
   "source": [
    "def un_g(f, N):\n",
    "    xn = np.linspace(-1+1/N,1-1/N,N)\n",
    "    I1 = float('inf')\n",
    "    I = 0\n",
    "    while abs(I1-I)>10e-10:\n",
    "        for i in xn:\n",
    "            I += f(i)*2/N\n",
    "        I1 = I    \n",
    "    return I1"
   ]
  },
  {
   "cell_type": "code",
   "execution_count": 3,
   "metadata": {},
   "outputs": [
    {
     "name": "stdout",
     "output_type": "stream",
     "text": [
      "0.666672000000002\n"
     ]
    }
   ],
   "source": [
    "print(un_g(lambda x: 7*x**3-8*x**2-3*x+3, 1000))"
   ]
  },
  {
   "cell_type": "markdown",
   "metadata": {},
   "source": [
    "3. Calculate the integral ([1](#mjx-eqn-eq1)) using the roots of the Legendre polynomial from 1 to 6 degrees as nodes (to get roots and weigths use scipy.special.roots_legendre)"
   ]
  },
  {
   "cell_type": "code",
   "execution_count": 4,
   "metadata": {},
   "outputs": [],
   "source": [
    "def leg_pol(f, N):\n",
    "    xn, wn = scipy.special.roots_legendre(N)\n",
    "    I = 0\n",
    "    n = xn.shape[0]\n",
    "    for i in range(n):\n",
    "        I += f(xn[i])*wn[i]\n",
    "    return I    "
   ]
  },
  {
   "cell_type": "code",
   "execution_count": 5,
   "metadata": {},
   "outputs": [
    {
     "name": "stdout",
     "output_type": "stream",
     "text": [
      "0.6666666666666695\n"
     ]
    }
   ],
   "source": [
    "print(leg_pol(lambda x: 7*x**3-8*x**2-3*x+3, 6))"
   ]
  },
  {
   "cell_type": "markdown",
   "metadata": {},
   "source": [
    "Compare the number of nodes needed to obtain the same accuracy in both numerical methods."
   ]
  },
  {
   "cell_type": "markdown",
   "metadata": {},
   "source": [
    "Для достижения одинаковой точности во втором методе понадобилось намного меньше узлов, чем в первом."
   ]
  },
  {
   "cell_type": "markdown",
   "metadata": {},
   "source": [
    "### Task 1.2\n",
    "(20% of the grade)\n",
    "\n",
    "Calculate the value of the same integral, but on the interval from 0 to 10.\n",
    "$$\n",
    "\\int_{0}^{10} (7x^3 - 8 x^2 - 3 x + 3) dx \n",
    "$$\n",
    "\n",
    "Please note that you can no longer directly use Legendre polynomials, because they are defined for the interval (-1,1). But you can always make an *affine transformation* (a transformation that does not change the area) in order to go to the desired coordinate system."
   ]
  },
  {
   "cell_type": "code",
   "execution_count": 7,
   "metadata": {},
   "outputs": [
    {
     "name": "stdout",
     "output_type": "stream",
     "text": [
      "14713.333333333334\n"
     ]
    }
   ],
   "source": [
    "#заменим x на 5t+5, тогда пределы интегрирования станут (-1,1)\n",
    "print(leg_pol(lambda t: (7*(5*t+5)**3-8*(5*t+5)**2-3*(5*t+5)+3)*5, 6))"
   ]
  },
  {
   "cell_type": "markdown",
   "metadata": {},
   "source": [
    "Compare the result with the exact value of the integral."
   ]
  },
  {
   "cell_type": "markdown",
   "metadata": {},
   "source": [
    "Если посчитать на бумажке, получим тоже самое значение."
   ]
  },
  {
   "cell_type": "markdown",
   "metadata": {},
   "source": [
    "### Task 1.3\n",
    "(20% of the grade)\n",
    "\n",
    "Calculate the value of the following integral:\n",
    "$$\n",
    "\\int_{0}^{2\\pi} \\frac{cos(x) dx }{\\sqrt{4\\pi^2 - x^2}}\n",
    "$$\n",
    "by using the corresponding basis of orthogonal polynomials. \n",
    "Find the degree of the polynomial (number of nodes) at which the accuracy of the integral starts to exceed the double floating point accuracy."
   ]
  },
  {
   "cell_type": "code",
   "execution_count": 8,
   "metadata": {},
   "outputs": [],
   "source": [
    "#знаменатель похож на вес в многочлене чебышева, изменим пределы интегрирования, чтобы им можно было воспользоваться\n",
    "#заменим исходный интеграл на cos(2*pi*t)/sqrt(1-t^2)/2 на (-1,1); где t=x/2pi\n",
    "def cheb(f, N):\n",
    "    xn, wn = scipy.special.roots_chebyt(N)\n",
    "    I = 0\n",
    "    n = xn.shape[0]\n",
    "    for i in range(n):\n",
    "        I += f(xn[i])*wn[i]\n",
    "    return I    "
   ]
  },
  {
   "cell_type": "code",
   "execution_count": 11,
   "metadata": {},
   "outputs": [
    {
     "name": "stdout",
     "output_type": "stream",
     "text": [
      "16\n"
     ]
    }
   ],
   "source": [
    "I1 = cheb(lambda t: np.cos(2*np.pi*t)/2, 1)\n",
    "I = 0\n",
    "n = 2\n",
    "while abs(I1-I)>(2*10e-16):\n",
    "    I1 = I \n",
    "    I = cheb(lambda t: np.cos(2*np.pi*t)/2, n)\n",
    "    n += 1 \n",
    "print (n)   "
   ]
  },
  {
   "cell_type": "code",
   "execution_count": 12,
   "metadata": {
    "scrolled": false
   },
   "outputs": [
    {
     "name": "stdout",
     "output_type": "stream",
     "text": [
      "0.3460101588122644\n"
     ]
    }
   ],
   "source": [
    "print(cheb(lambda t: np.cos(2*np.pi*t)/2, 16))    "
   ]
  },
  {
   "cell_type": "markdown",
   "metadata": {},
   "source": [
    "## Part 2. Fredholm equation\n",
    "\n",
    "There are two types of Fredholm equations. \n",
    "\n",
    "1. Fredholm equation of the first kind:\n",
    "$$\n",
    "\\int_a^b \\! K(x, t)\\, \\color{blue}{f(t)} \\,dt = g(x)\n",
    "$$\n",
    "\n",
    "2. Fredholm equation of the second kind:\n",
    "$$\n",
    "\\lambda \\int_a^b\\! K(x, t)\\, \\color{blue}{f(t)} \\, dt + g(x) = \\color{blue}{f(x)}\n",
    "$$\n",
    "\n",
    "Here higtlighted function $f(x)$ is unknown, kernel function $K(x, t)$ and given function $g(x)$, $\\lambda$ is a real number. Numerically, Fredholm equations of the first kind are very ill-conditioned. We will consider equations of the second kind only."
   ]
  },
  {
   "cell_type": "markdown",
   "metadata": {},
   "source": [
    "The basic idea is to approximate the integral by some quadrature formula\n",
    "\n",
    "$$\n",
    "\\int_a^b \\! \\xi(t)\\, dt \\approx \\sum_j^N w_j\\, \\xi(t_j)\n",
    "$$\n",
    "\n",
    "with appropriate weights $w_j$ and nodes $t_j$ and $j=1, \\dots, N$. The accuracy of the approximation is controlled by $N$."
   ]
  },
  {
   "cell_type": "markdown",
   "metadata": {},
   "source": [
    "This way, the FE is approximated by \n",
    "\n",
    "$$\n",
    "\\lambda \\sum_j w_j\\, K(x, t_j)\\, \\color{blue}{f(t_j)} + g(x) = \\color{blue}{f(x)}\n",
    "$$\n",
    "\n",
    "Note that here $x$ is a continuous variable, and we only discretized $t$.\n"
   ]
  },
  {
   "cell_type": "markdown",
   "metadata": {},
   "source": [
    "Evaluating this equation on the grid $x = t_k$, we obtain\n",
    "\n",
    "$$\n",
    "\\lambda \\sum_j w_j \\, K_{k, j}\\, \\color{blue}{f_j} + g_k = \\color{blue}{f_k}\n",
    "$$\n",
    "\n",
    "where $f_j \\equiv f(t_j)$, $g_j \\equiv g(t_j)$ and $K_{k, j} \\equiv K(t_k, t_j)$. This is nothing but a system of linear algebraic equations for the vector of $\\color{blue}{f_j}$.\n",
    "\n",
    "Its solution gives the values of the unknown function $f(x)$ at the discrete values $x=t_j$ for $j=1, \\dots, N$."
   ]
  },
  {
   "cell_type": "markdown",
   "metadata": {},
   "source": [
    "### Task 2.1\n",
    "(20% of the grade)\n",
    "\n",
    "Solve an example Fredholm equation of the second kind\n",
    "\n",
    "$$\n",
    "f(x) = \\sin(\\pi x)  + \\frac{1}{2} \\int_0^1\\! f(t) \\, dt\n",
    "$$\n",
    "\n",
    "Here $a, b = 0, 1$, $\\lambda = \\dfrac{1}{2}$, the kernel is $K(x, t) = 1$ and the right-hand side $g(x) = \\sin(\\pi x)$.\n",
    "\n",
    "In fact, the exact solution is (В. А. Попов, Сборник задач по интегральным уравнениям, 2006, стр. 5)\n",
    "\n",
    "$$\n",
    "f(x) = \\sin(\\pi x) + \\frac{2}{\\pi}\n",
    "$$"
   ]
  },
  {
   "cell_type": "markdown",
   "metadata": {},
   "source": [
    "For the integral, we can use a Gaussian quadrature with the weight function $w(x) = 1$ on $(0, 1)$. Looking at http://dlmf.nist.gov/18.3, and find the corresponding function in *scipy.special* (pay attention to the integration interval).\n",
    "\n",
    "Compare the obtained function values with the true solution for different values of $N$. What value of $N$ can you stop at?"
   ]
  },
  {
   "cell_type": "code",
   "execution_count": null,
   "metadata": {},
   "outputs": [],
   "source": [
    "### Enter your code here"
   ]
  },
  {
   "cell_type": "markdown",
   "metadata": {},
   "source": [
    "### Task 2.2\n",
    "(20% of the grade)\n",
    "\n",
    "An obvious issue with the privious result for $f(x)$ that it returns the solution on a fixed set of points. We do not control precise positions of these points.\n",
    "\n",
    "1. First, let's try to interpolate the values obtained in the previous task to a uniform grid of length 50. You may use any interpolation method. Compare the interpolation values with exact solution values."
   ]
  },
  {
   "cell_type": "code",
   "execution_count": null,
   "metadata": {},
   "outputs": [],
   "source": [
    "### Enter your code here"
   ]
  },
  {
   "cell_type": "markdown",
   "metadata": {},
   "source": [
    "2. Now use the following formula to calculate the function at points of the same uniform grid.\n",
    "$$\n",
    "f(x) = g(x) + \\lambda \\sum_j^N w_j\\, K(x, t_j)\\, f(t_j)\n",
    "$$\n",
    "Again, compare the interpolation values with the exact solution values, and also with the direct interpolation method."
   ]
  },
  {
   "cell_type": "code",
   "execution_count": null,
   "metadata": {},
   "outputs": [],
   "source": [
    "### Enter your code here"
   ]
  }
 ],
 "metadata": {
  "kernelspec": {
   "display_name": "Python 3",
   "language": "python",
   "name": "python3"
  },
  "language_info": {
   "codemirror_mode": {
    "name": "ipython",
    "version": 3
   },
   "file_extension": ".py",
   "mimetype": "text/x-python",
   "name": "python",
   "nbconvert_exporter": "python",
   "pygments_lexer": "ipython3",
   "version": "3.7.4"
  }
 },
 "nbformat": 4,
 "nbformat_minor": 4
}
